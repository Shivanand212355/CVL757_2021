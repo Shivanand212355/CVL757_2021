{
 "cells": [
  {
   "cell_type": "code",
   "execution_count": 1,
   "id": "524f8034",
   "metadata": {},
   "outputs": [
    {
     "name": "stdout",
     "output_type": "stream",
     "text": [
      "gstiff\n",
      "[[  466.66666667   700.          -466.66666667   700.\n",
      "      0.             0.             0.             0.        ]\n",
      " [  700.          1400.          -700.           700.\n",
      "      0.             0.             0.             0.        ]\n",
      " [ -466.66666667  -700.           663.54166667  -306.25\n",
      "   -196.875        393.75           0.             0.        ]\n",
      " [  700.           700.          -306.25        2450.\n",
      "   -393.75         525.             0.             0.        ]\n",
      " [    0.             0.          -196.875       -393.75\n",
      "   1771.875       1181.25       -1575.          1575.        ]\n",
      " [    0.             0.           393.75         525.\n",
      "   1181.25        3150.         -1575.          1050.        ]\n",
      " [    0.             0.             0.             0.\n",
      "  -1575.         -1575.          1575.         -1575.        ]\n",
      " [    0.             0.             0.             0.\n",
      "   1575.          1050.         -1575.          2100.        ]]\n",
      "free displacements is [[ 0.0027053 ]\n",
      " [-0.00541061]\n",
      " [ 0.00386472]]\n",
      "All displacements is [[ 0.        ]\n",
      " [ 0.0027053 ]\n",
      " [ 0.        ]\n",
      " [-0.00541061]\n",
      " [ 0.        ]\n",
      " [ 0.00386472]\n",
      " [ 0.        ]\n",
      " [ 0.        ]]\n",
      "reactions at 1st node\n",
      "[-1.89371304]\n",
      "reactions at 2nd node\n",
      "[15.28501957]\n",
      "reactions at 3nd node\n",
      "[20.69562826]\n",
      "reactions at 4th node\n",
      "[[-6.08693478]\n",
      " [ 4.05795652]]\n",
      "Shear force in 1st element is -1.8937130434782612 \n",
      "Shear force in 2nd element is -1.8937130434782612+15.285019565217391-7*(x-3) \n",
      "Shear force in 3rd element is -1.8937130434782612+15.285019565217391+20.695628260869565-28 \n",
      "SFD\n"
     ]
    },
    {
     "data": {
      "image/png": "[encoded data removed]",
      "text/plain": [
       "<Figure size 432x288 with 1 Axes>"
      ]
     },
     "metadata": {
      "needs_background": "light"
     },
     "output_type": "display_data"
    },
    {
     "name": "stdout",
     "output_type": "stream",
     "text": [
      "Bending moment in 1st element is -1.8937130434782612*x \n",
      "Bending moment in 2nd element is -1.8937130434782612*x+15.285019565217391*(x-3)-7*(x-3)^2 \n",
      "Bending moment in 2nd element is -1.8937130434782612*x+15.285019565217391*(x-3)-7*(x-3)^2 \n",
      "BMD\n"
     ]
    },
    {
     "data": {
      "image/png": "[encoded data removed]",
      "text/plain": [
       "<Figure size 432x288 with 1 Axes>"
      ]
     },
     "metadata": {
      "needs_background": "light"
     },
     "output_type": "display_data"
    },
    {
     "data": {
      "text/plain": [
       "<Figure size 432x288 with 0 Axes>"
      ]
     },
     "metadata": {},
     "output_type": "display_data"
    }
   ],
   "source": [
    "import numpy as np\n",
    "import math as mt\n",
    "ndcon= np.array([[1,2],[2,3],[3,4]])\n",
    "nelem = len(ndcon)\n",
    "ndofn=2\n",
    "nnode=2\n",
    "x=[0,3,7,9]\n",
    "E=2.1e8\n",
    "I=5e-6\n",
    "L=3\n",
    "nodes=len(x)\n",
    "tdofs=nodes*ndofn\n",
    "gstiff = np.zeros([tdofs,tdofs])\n",
    "ielem=0\n",
    "while ielem < nelem: \n",
    "    gbdof=[]\n",
    "    x1 =x[ndcon[ielem][0]-1]\n",
    "    x2 =x[ndcon[ielem][1]-1]\n",
    "    L=mt.sqrt((x2-x1)**2)\n",
    "    K1 =np.matrix('%s, %s , %s, %s; %s, %s, %s, %s; %s, %s, %s, %s; %s, %s, %s, %s' % (12*E*I/L**3, 6*E*I/L**2,-12*E*I/L**3,6*E*I/L**2,6*E*I/L**2,4*E*I/L,-6*E*I/L**2,2*E*I/L,-12*E*I/L**3,-6*E*I/L**2,12*E*I/L**3,-6*E*I/L**2,6*E*I/L**2,2*E*I/L,-6*E*I/L**2,4*E*I/L))\n",
    "    inode =0\n",
    "    while inode < nnode:\n",
    "        idofn=1\n",
    "        while idofn <= ndofn:\n",
    "            gbdof.append((ndcon[ielem,inode]-1)*ndofn+idofn)\n",
    "            idofn += 1\n",
    "        inode += 1\n",
    "    i = 0\n",
    "    if i == 0:\n",
    "        gstiff[gbdof[i]-1,gbdof[i]-1]=gstiff[gbdof[i]-1,gbdof[i]-1] + K1[0,0]\n",
    "        gstiff[gbdof[i]-1,gbdof[i+1]-1]=gstiff[gbdof[i]-1,gbdof[i+1]-1] + K1[0,1]\n",
    "        gstiff[gbdof[i]-1,gbdof[i+2]-1]=gstiff[gbdof[i]-1,gbdof[i+2]-1] + K1[0,2]\n",
    "        gstiff[gbdof[i]-1,gbdof[i+3]-1]=gstiff[gbdof[i]-1,gbdof[i+3]-1] + K1[0,3]\n",
    "    i = 1\n",
    "    if i == 1:\n",
    "        gstiff[gbdof[i]-1,gbdof[i-1]-1]=gstiff[gbdof[i]-1,gbdof[i-1]-1] + K1[1,0]\n",
    "        gstiff[gbdof[i]-1,gbdof[i]-1]=gstiff[gbdof[i]-1,gbdof[i]-1]     + K1[1,1]\n",
    "        gstiff[gbdof[i]-1,gbdof[i+1]-1]=gstiff[gbdof[i]-1,gbdof[i+1]-1] + K1[1,2]\n",
    "        gstiff[gbdof[i]-1,gbdof[i+2]-1]=gstiff[gbdof[i]-1,gbdof[i+2]-1] + K1[1,3]\n",
    "    i = 2\n",
    "    if i == 2:\n",
    "        gstiff[gbdof[i]-1,gbdof[i-2]-1]=gstiff[gbdof[i]-1,gbdof[i-2]-1] + K1[2,0]\n",
    "        gstiff[gbdof[i]-1,gbdof[i-1]-1]=gstiff[gbdof[i]-1,gbdof[i-1]-1] + K1[2,1]\n",
    "        gstiff[gbdof[i]-1,gbdof[i]-1]=gstiff[gbdof[i]-1,gbdof[i]-1]     + K1[2,2]\n",
    "        gstiff[gbdof[i]-1,gbdof[i+1]-1]=gstiff[gbdof[i]-1,gbdof[i+1]-1] + K1[2,3]\n",
    "    i = 3 \n",
    "    if i == 3:\n",
    "        gstiff[gbdof[i]-1,gbdof[i-3]-1]=gstiff[gbdof[i]-1,gbdof[i-3]-1] + K1[3,0]\n",
    "        gstiff[gbdof[i]-1,gbdof[i-2]-1]=gstiff[gbdof[i]-1,gbdof[i-2]-1] + K1[3,1]\n",
    "        gstiff[gbdof[i]-1,gbdof[i-1]-1]=gstiff[gbdof[i]-1,gbdof[i-1]-1] + K1[3,2]\n",
    "        gstiff[gbdof[i]-1,gbdof[i]-1]=gstiff[gbdof[i]-1,gbdof[i]-1]     + K1[3,3]\n",
    "    ielem += 1\n",
    "print(\"gstiff\")    \n",
    "print(gstiff)\n",
    "b=np.delete(gstiff,[0,2,4,6,7],0)\n",
    "c=np.delete(b,[0,2,4,6,7],1)\n",
    "#print(c)\n",
    "f=np.matrix('0;-9.3333;9.3333')\n",
    "u = np.linalg.inv(c).dot(f)\n",
    "print(\"free displacements is %s\" %u)\n",
    "U=np.zeros([tdofs,1])\n",
    "U[1][0]=u[0][0]\n",
    "U[3][0]=u[1][0]\n",
    "U[5][0]=u[2][0]\n",
    "print(\"All displacements is %s\" %U)\n",
    "f= gstiff[0].dot(U)\n",
    "print(\"reactions at 1st node\")\n",
    "print(f)\n",
    "f1= 14+gstiff[2].dot(U)\n",
    "print(\"reactions at 2nd node\")\n",
    "print(f1)\n",
    "f2= 14+gstiff[4].dot(U)\n",
    "print(\"reactions at 3nd node\")\n",
    "print(f2)\n",
    "f3= gstiff[6:8].dot(U)\n",
    "print(\"reactions at 4th node\")\n",
    "print(f3)\n",
    "#sfd for element\n",
    "import matplotlib.pyplot as plt\n",
    "w= np.arange(0,3,0.01)\n",
    "x=f[0]+(0*w)\n",
    "print(\"Shear force in 1st element is %s \"%(f[0]))\n",
    "y= np.arange(3,7,0.01)\n",
    "z=f[0]+f1[0]-(7*(y-3))\n",
    "print(\"Shear force in 2nd element is %s+%s-7*(x-3) \"%(f[0],f1[0]))\n",
    "y1= np.arange(7,9,0.01)\n",
    "z1=f[0]+f1[0]+f2[0]-(7*4)+(0*y1)\n",
    "print(\"Shear force in 3rd element is %s+%s+%s-28 \"%(f[0],f1[0],f2[0]))\n",
    "print(\"SFD\")\n",
    "plt.plot(w,x,y,z,y1,z1)\n",
    "plt.legend(['l=0:3', 'l=3:7','l=7:9'])\n",
    "plt.xlabel('l')\n",
    "plt.ylabel('Shear Force')\n",
    "plt.title('Shear Force Diagram')\n",
    "#plt.grid(True)\n",
    "plt.show()\n",
    "plt.savefig('SFD_A2_Q2.png')\n",
    "#Bmd for element\n",
    "w= np.arange(0,3,0.01)\n",
    "x=(f[0]*w)\n",
    "print(\"Bending moment in 1st element is %s*x \"%(f[0]))\n",
    "y= np.arange(3,7,0.01)\n",
    "z=(f[0]*y)+f1[0]*(y-3)-(3.5*(y-3)**2)\n",
    "print(\"Bending moment in 2nd element is %s*x+%s*(x-3)-7*(x-3)^2 \"%(f[0],f1[0]))\n",
    "y1= np.arange(7,9,0.01)\n",
    "z1=(f[0]*y1)+f1[0]*(y1-3)+f2[0]*(y1-7)-(7*4*(y1-5))\n",
    "print(\"Bending moment in 2nd element is %s*x+%s*(x-3)-7*(x-3)^2 \"%(f[0],f1[0]))\n",
    "print(\"BMD\")\n",
    "plt.plot(w,x,y,z,y1,z1)\n",
    "plt.legend(['l=0:3', 'l=3:7','l=7:9'])\n",
    "plt.xlabel('l')\n",
    "plt.ylabel('Bending Moment')\n",
    "plt.title('Bending Moment Diagram')\n",
    "#plt.grid(True)\n",
    "plt.show()\n",
    "plt.savefig('BMD_A2_Q2.png')\n",
    "\n"
   ]
  },
  {
   "cell_type": "code",
   "execution_count": null,
   "id": "a84a4092",
   "metadata": {},
   "outputs": [],
   "source": []
  }
 ],
 "metadata": {
  "kernelspec": {
   "display_name": "Python 3",
   "language": "python",
   "name": "python3"
  },
  "language_info": {
   "codemirror_mode": {
    "name": "ipython",
    "version": 3
   },
   "file_extension": ".py",
   "mimetype": "text/x-python",
   "name": "python",
   "nbconvert_exporter": "python",
   "pygments_lexer": "ipython3",
   "version": "3.8.8"
  }
 },
 "nbformat": 4,
 "nbformat_minor": 5
}
